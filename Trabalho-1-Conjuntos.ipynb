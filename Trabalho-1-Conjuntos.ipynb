{
 "cells": [
  {
   "cell_type": "markdown",
   "metadata": {},
   "source": [
    "# Pontifícia Universidade Católica do Paraná \n",
    "### Trabalho 1 Conjuntos - Resolução de Problemas de Natureza Discreta\n",
    "### Estudante: Luiz Henrique Baldão Filho\n",
    "\n",
    "- O trabalho consiste na leitura de um arquivo (o qual deve ser selecionado pelo usuário) no qual a primeira linha é o número de operações a serem realizadas e seus tipos (U, I, D e C)."
   ]
  },
  {
   "cell_type": "code",
   "execution_count": 102,
   "metadata": {},
   "outputs": [
    {
     "name": "stdout",
     "output_type": "stream",
     "text": [
      "not an operation\n",
      "1, 2, 3, 4\n",
      "\n",
      "5, 6, 7, 8\n",
      "\n",
      "not an operation\n",
      "not an operation\n",
      "intersection\n",
      "not an operation\n",
      "not an operation\n",
      "difference\n",
      "not an operation\n",
      "not an operation\n",
      "cartesian product\n",
      "not an operation\n",
      "not an operation\n"
     ]
    }
   ],
   "source": [
    "# Opening and reading the file\n",
    "with open(\"exemplo2.txt\", \"r\") as file:\n",
    "    operations = file.readlines()\n",
    "    file.close()\n",
    "    numberOfLines = len(operations)\n",
    "\n",
    "# Reading the first line of the file and converting it to a int     \n",
    "numberOfoperationsLine = operations[0]\n",
    "numberOfoperations = int(numberOfoperationsLine)\n",
    "operationsRange = numberOfoperations * 3 - 1\n",
    "\n",
    "# Initializing the list of operations\n",
    "if operationsRange <= numberOfLines:\n",
    "    for index in range(numberOfLines):\n",
    "        if index <= numberOfLines:\n",
    "            if \"U\" in operations[index]:\n",
    "                group1 = operations[index + 1]\n",
    "                str(group1)\n",
    "                print(group1)\n",
    "                group2 = operations[index + 2]\n",
    "                str(group2)\n",
    "                print(group2)\n",
    "            elif \"I\" in operations[index]:\n",
    "                print(\"intersection\")\n",
    "            elif \"D\" in operations[index]:\n",
    "                print(\"difference\")\n",
    "            elif \"C\" in operations[index]:\n",
    "                print(\"cartesian product\") \n",
    "            else: print(\"not an operation\")\n",
    "            operations.append(operations[index+1])\n",
    "        else:\n",
    "            print(\"out of range\")\n",
    "else:\n",
    "    print(\"out of range\")\n"
   ]
  }
 ],
 "metadata": {
  "kernelspec": {
   "display_name": "Python 3.10.6 64-bit",
   "language": "python",
   "name": "python3"
  },
  "language_info": {
   "codemirror_mode": {
    "name": "ipython",
    "version": 3
   },
   "file_extension": ".py",
   "mimetype": "text/x-python",
   "name": "python",
   "nbconvert_exporter": "python",
   "pygments_lexer": "ipython3",
   "version": "3.10.6"
  },
  "orig_nbformat": 4,
  "vscode": {
   "interpreter": {
    "hash": "8cc6e44b0baf167b5d0e3902724a71ee14422ea723b2c59e728fe810e48b63e8"
   }
  }
 },
 "nbformat": 4,
 "nbformat_minor": 2
}
